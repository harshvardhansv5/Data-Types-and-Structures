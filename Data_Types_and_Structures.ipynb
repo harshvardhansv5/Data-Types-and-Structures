{
  "nbformat": 4,
  "nbformat_minor": 0,
  "metadata": {
    "colab": {
      "provenance": []
    },
    "kernelspec": {
      "name": "python3",
      "display_name": "Python 3"
    },
    "language_info": {
      "name": "python"
    }
  },
  "cells": [
    {
      "cell_type": "markdown",
      "source": [
        "What are data structures, and why are they important?\n",
        "- Data structures are the fundamental building blocks of computer programming. They define how data is **organized**, **stored**, and **manipulated** within a program.\n",
        "\n",
        "**Importance of data structures** -:\n",
        "- Efficiency\n",
        "- Reusability\n",
        "- Abstraction\n",
        "- Memory Management\n",
        "- Scalability\n"
      ],
      "metadata": {
        "id": "YpZzltlleuu3"
      }
    },
    {
      "cell_type": "markdown",
      "source": [
        "Explain the difference between mutable and immutable data types with examples.\n",
        "- **Mutable Data Type** - A mutable data type is one whose values can be changed.\n",
        "Example: **List, Dictionaries, and Set**\n",
        "- **Immutable Data Type** - An immutable data type is one in which the values can't be changed or altered.\n",
        "Example: **String and Tuples**."
      ],
      "metadata": {
        "id": "cIiZNsy7_pVd"
      }
    },
    {
      "cell_type": "markdown",
      "source": [
        "What are the main differences between lists and tuples in Python?\n",
        "- **LIST**\n",
        "1. Lists are mutable.\n",
        "2. The list is better for performing operations, such as insertion and deletion.\n",
        "3. Lists have several built-in methods.\n",
        "---\n",
        "- **TUPLE**\n",
        "1. Tuples are immutable.\n",
        "2. A tuple data type is appropriate for accessing the elements.\n",
        "3. Tuple does not have many built-in methods.\n",
        "\n"
      ],
      "metadata": {
        "id": "ucnYJlt6ApfN"
      }
    },
    {
      "cell_type": "markdown",
      "source": [
        "Describe how dictionaries store data.\n",
        "- Dictionaries are used to store data values in key:value pairs.\n",
        "```\n",
        "car = {\n",
        "\"brand\": \"Aston Martin\",\n",
        "\"model\": \"Valkyrie\",\n",
        "\"year\": 2021,\n",
        "\"horsepower\": \"1,155PS\",\n",
        "\"engine\": \"V-12\"\n",
        "}\n",
        "```\n"
      ],
      "metadata": {
        "id": "JqBszNvbCvYW"
      }
    },
    {
      "cell_type": "markdown",
      "source": [
        "Why might you use a set instead of a list in Python?\n",
        "- **Uniqueness** -A set automatically ensures that all its elements are unique. If you need a collection of items with no duplicates, a set is the right choice.\n",
        "-  **Set Operations** - Sets support powerful mathematical operations like union, intersection, and difference.\n",
        "- **Efficient Duplicate Removal** - Converting a list to a set is an easy way to remove duplicates.\n",
        "- **Avoiding Order Dependence** - Unlike lists, sets are unordered. If you don't care about the order of elements, sets can be simpler to work with."
      ],
      "metadata": {
        "id": "BZzZMpNwFPs8"
      }
    },
    {
      "cell_type": "markdown",
      "source": [
        "What is a string in Python, and how is it different from a list?\n",
        "- A string in Python is a data type composed of a collection of characters, which are surrounded by single quotes, double quotes, or triple quotes. It can contain letters, numbers, and special characters. A string is an immutable data type, so we can't change it once created.\n",
        "- Strings and lists are both sequence data types in Python, but they differ in their structure, usage, and functionality.\n",
        "1.   Strings are immutable.\n",
        "2.   Strings can only contain characters, while list can contain   elements of different data types(e.g., numbers, strings, other lists).\n",
        "3.   String has methods specific to text manipulation, like .upper(), .lower(), .replace(), .split(), etc. while list has methods for list manipulation, like .append(), .pop(), .sort(), .reverse(), etc."
      ],
      "metadata": {
        "id": "fTCUwrWZSj9U"
      }
    },
    {
      "cell_type": "markdown",
      "source": [
        "How do tuples ensure data integrity in Python?\n",
        "- Tuples ensure data integrity in Python through their **immutability**. This means that once a tuple is created, its elements cannot be changed, added, or removed."
      ],
      "metadata": {
        "id": "DJ91Cg5IapJu"
      }
    },
    {
      "cell_type": "markdown",
      "source": [
        "What is a hash table, and how does it relate to dictionaries in Python?\n",
        "- A hash table is a data structure that provides an efficient way to store and retrieve data using a technique called hashing. In Python, dictionaries (dict) are implemented using hash tables."
      ],
      "metadata": {
        "id": "d9k3QyYsbwau"
      }
    },
    {
      "cell_type": "markdown",
      "source": [
        "Can lists contain different data types in Python?\n",
        "- Yes, lists in Python can contain elements of different data types. This is one of the features that makes Python lists flexible and powerful.\n",
        "```\n",
        "mixed_list = [42, \"hello\", 3.14, True, [1, 2, 3], {\"key\": \"value\"}]\n",
        "print(mixed_list[0])  # 42 (integer)\n",
        "print(mixed_list[1])  # \"hello\" (string)\n",
        "print(mixed_list[4])  # [1, 2, 3] (nested list)\n",
        "print(mixed_list[5])  # {\"key\": \"value\"} (dictionary)\n",
        "```\n",
        "\n"
      ],
      "metadata": {
        "id": "AdSl8m4RdT-p"
      }
    },
    {
      "cell_type": "markdown",
      "source": [
        "Explain why strings are immutable in Python.\n",
        "- Strings are immutable in Python because immutability offers several practical and design advantages, including improved performance, security, and simplicity.\n",
        "1. Efficient memory usage.\n",
        "2. Reliable hashing for dictionary keys and sets.\n",
        "3. Thread-safe and secure usage.\n",
        "4. Simplified design with fewer side effects.\n",
        "\n",
        "\n"
      ],
      "metadata": {
        "id": "ujBI90UqdsiP"
      }
    },
    {
      "cell_type": "markdown",
      "source": [
        "What advantages do dictionaries offer over lists for certain tasks?\n",
        "- **Dictionaries** offer fast lookups (O(1)) compared to lists (O(n)), making them efficient for retrieving data.  \n",
        "- They store data as key-value pairs, allowing for meaningful associations instead of relying on numeric indices.  \n",
        "- Dictionaries support flexible, hashable keys (e.g., strings, tuples), unlike lists that use sequential indices.  \n",
        "- For sparse data storage, they are effective.\n",
        "- Adding or removing elements in dictionaries doesn't require shifting indices, making them dynamic and flexible.  \n",
        "- Dictionaries provide better readability for labeled data, while lists can be ambiguous for mixed content.  \n",
        "- They are ideal for tasks like frequency counting, mapping relationships, or creating lookup tables.\n",
        "- **Lists**, however, are better suited for ordered collections, slicing, or handling sequential data.  \n"
      ],
      "metadata": {
        "id": "pfZg3fJAgBak"
      }
    },
    {
      "cell_type": "markdown",
      "source": [
        "Describe a scenario where using a tuple would be preferable over a list.\n",
        "- A tuple is preferable over a list when you need to ensure that the data remains unchanged (immutable).It is applied in a setting that capitalises on its unchangeability.\n",
        "- Imagine you're working on an application that stores user profile data (e.g., username, email, and user ID), and this data should not be modified once it's created.\n",
        "```\n",
        "# Tuple for representing a user profile\n",
        "user_profile = (\"harsh123\", \"harsh@gmail.com\", 101)\n",
        "```\n"
      ],
      "metadata": {
        "id": "_NtYgq-kj2W4"
      }
    },
    {
      "cell_type": "markdown",
      "source": [
        "How do sets handle duplicate values in Python?\n",
        "- In Python, sets automatically remove duplicate values. They only store unique elements, so if you try to add a duplicate value, it will be ignored.\n",
        "```\n",
        "# Creating a set with duplicate values\n",
        "my_set = {1, 2, 3, 3, 4, 5, 5}\n",
        "# Display the set\n",
        "print(my_set)  # Output: {1, 2, 3, 4, 5}\n",
        "```\n"
      ],
      "metadata": {
        "id": "zykYwTTfl96I"
      }
    },
    {
      "cell_type": "markdown",
      "source": [
        "How does the “in” keyword work differently for lists and dictionaries?\n",
        "- For **lists**, *in* checks if a value is present in the list.\n",
        "\n",
        "```\n",
        "my_list = [10, 20, 30, 40]\n",
        "\n",
        "# Check if the value 20 is in the list\n",
        "print(20 in my_list)  # Output: True\n",
        "\n",
        "# Check if the value 50 is in the list\n",
        "print(50 in my_list)  # Output: False\n",
        "```\n",
        "- For **dictionaries**, *in* checks if a key is present in the dictionary.\n",
        "\n",
        "```\n",
        "my_dict = {\"a\": 1, \"b\": 2, \"c\": 3}\n",
        "\n",
        "# Check if the key \"b\" is in the dictionary\n",
        "print(\"b\" in my_dict)  # Output: True\n",
        "\n",
        "# Check if the key \"d\" is in the dictionary\n",
        "print(\"d\" in my_dict)  # Output: False\n",
        "\n",
        "# Checking for a value (incorrect usage)\n",
        "print(2 in my_dict)  # Output: False (this checks for a key, not a value)\n",
        "```"
      ],
      "metadata": {
        "id": "27Q0RJhPqMY5"
      }
    },
    {
      "cell_type": "markdown",
      "source": [
        "Can you modify the elements of a tuple? Explain why or why not?\n",
        "- No, you cannot modify the elements of a tuple in python because tuples are immutable. Once a tuple is created, its elements cannot be changed, added, or removed.\n",
        "\n",
        "**Why Tuples Are Immutable:**\n",
        "- **Immutability**: This means that once a tuple is created, its values are fixed and cannot be altered. This is a design choice to ensure that the data remains constant and consistent.\n",
        "- **Memory Efficiency**: Immutability allows tuples to be stored more efficiently in memory and enables optimizations like hashing (which makes tuples hashable and usable as dictionary keys).\n",
        "- **Data Integrity**: Ensuring that the tuple's content cannot be changed by accident adds to the reliability and safety of the program, especially when tuples represent fixed data, such as coordinates or configuration settings."
      ],
      "metadata": {
        "id": "3MIRV_HAsqxe"
      }
    },
    {
      "cell_type": "markdown",
      "source": [
        "What is a nested dictionary, and give an example of its use case?\n",
        "- A nested dictionary is a dictionary where the values are themselves dictionaries. This allows you to represent more complex data structures by using dictionaries inside other dictionaries.\n",
        "\n",
        "**Use Case:**\n",
        "- A nested dictionary can be useful when you need to store hierarchical or structured data, like details about students in a class, where each student has multiple attributes (e.g., name, age, subjects).\n",
        "\n",
        "\n",
        "```\n",
        "students = {\n",
        "    \"Alice\": {\"age\": 20, \"math\": 90, \"english\": 85},\n",
        "    \"Bob\": {\"age\": 22, \"math\": 75, \"english\": 88}\n",
        "}\n",
        "# Accessing data from a nested dictionary\n",
        "print(students[\"Alice\"][\"math\"])  # Output: 90\n",
        "print(students[\"Bob\"][\"age\"])     # Output: 22\n",
        "```"
      ],
      "metadata": {
        "id": "NaJm4PFiu2pd"
      }
    },
    {
      "cell_type": "markdown",
      "source": [
        "Describe the time complexity of accessing elements in a dictionary.\n",
        "- The time complexity of accessing elements in a dictionary in python is **O(1)**, which means constant time."
      ],
      "metadata": {
        "id": "Q_uZVcq2v2o2"
      }
    },
    {
      "cell_type": "markdown",
      "source": [
        "In what situations are lists preferred over dictionaries?\n",
        "- Lists are preferred over dictionaries when you need to store ordered data or when the order of elements matters. Lists are best when you need to access elements by position (index) or store a collection of items that don’t need a key-value pair.\n",
        "- When you want to store a sequence of numbers or items where the order matters (like a playlist or a list of student names)."
      ],
      "metadata": {
        "id": "87zaB0HiwcPQ"
      }
    },
    {
      "cell_type": "markdown",
      "source": [
        "Why are dictionaries considered unordered, and how does that affect data retrieval?\n",
        "- Dictionaries in python are considered unordered because the elements are stored based on their hash values rather than in a specific sequence. This means that when you insert items, the order in which they appear isn't guaranteed to be preserved.\n",
        "\n",
        "**Effect on Data Retrieval:**\n",
        "- **Fast Lookups**: Despite being unordered, dictionaries allow for efficient O(1) access by key.\n",
        "- **No Indexing**: You cannot access dictionary elements by a numeric index like in a list.\n",
        "- **Unpredictable Order**: The order of items in a dictionary can change as items are added or removed."
      ],
      "metadata": {
        "id": "koNeVK69w7xu"
      }
    },
    {
      "cell_type": "markdown",
      "source": [
        "Explain the difference between a list and a dictionary in terms of data retrieval.\n",
        "- The main difference between a **list** and a **dictionary** in terms of **data retrieval** is how they access and store data:\n",
        "### 1. **List**:\n",
        "- **Data Retrieval**: In a list, data is accessed using an **index** (position) in an **ordered** collection.\n",
        "- **Access Time**: To retrieve an element, you use its position, e.g., my_list[1], which takes **O(1)** time (constant time).\n",
        "- **Example**:\n",
        "  ```python\n",
        "  my_list = [10, 20, 30]\n",
        "  print(my_list[1])  # Output: 20\n",
        "  ```\n",
        "### 2. **Dictionary**:\n",
        "- **Data Retrieval**: In a dictionary, data is accessed using a **key**, and the order does not matter.\n",
        "- **Access Time**: Retrieval is very efficient with **O(1)** average time complexity because dictionaries use hash tables to store data by key.\n",
        "- **Example**:\n",
        "  ```python\n",
        "  my_dict = {\"a\": 10, \"b\": 20}\n",
        "  print(my_dict[\"b\"])  # Output: 20\n",
        "  ```"
      ],
      "metadata": {
        "id": "B2H6jC35xtni"
      }
    },
    {
      "cell_type": "markdown",
      "source": [
        "Write a code to create a string with your name and print it."
      ],
      "metadata": {
        "id": "d440cJ2UrSvM"
      }
    },
    {
      "cell_type": "code",
      "source": [
        "new_string = \"Harshavardhan\"\n",
        "print(new_string)"
      ],
      "metadata": {
        "colab": {
          "base_uri": "https://localhost:8080/"
        },
        "id": "KxYe0vBprOtD",
        "outputId": "ebdc0128-224c-417f-b1c1-7e1d91b510e8"
      },
      "execution_count": null,
      "outputs": [
        {
          "output_type": "stream",
          "name": "stdout",
          "text": [
            "Harshavardhan\n"
          ]
        }
      ]
    },
    {
      "cell_type": "markdown",
      "source": [
        "Write a code to find the length of the string \"Hello World\"."
      ],
      "metadata": {
        "id": "F_HI0p76rloz"
      }
    },
    {
      "cell_type": "code",
      "source": [
        "new_string = \"Hello World\"\n",
        "print(len(new_string))"
      ],
      "metadata": {
        "colab": {
          "base_uri": "https://localhost:8080/"
        },
        "id": "w1pDaahPrnWa",
        "outputId": "cb94284e-987e-4334-eee1-c5fe6c9a5df7"
      },
      "execution_count": null,
      "outputs": [
        {
          "output_type": "stream",
          "name": "stdout",
          "text": [
            "11\n"
          ]
        }
      ]
    },
    {
      "cell_type": "markdown",
      "source": [
        "Write a code to slice the first 3 characters from the string \"Python Programming\""
      ],
      "metadata": {
        "id": "AOp7et22ruSl"
      }
    },
    {
      "cell_type": "code",
      "source": [
        "new_string =\"Python Programming\"\n",
        "print(new_string[0:3])"
      ],
      "metadata": {
        "colab": {
          "base_uri": "https://localhost:8080/"
        },
        "id": "mc-yjkH4rz57",
        "outputId": "16ce5a4d-1146-42ce-bac8-d79956efae08"
      },
      "execution_count": null,
      "outputs": [
        {
          "output_type": "stream",
          "name": "stdout",
          "text": [
            "Pyt\n"
          ]
        }
      ]
    },
    {
      "cell_type": "markdown",
      "source": [
        "Write a code to convert the string \"hello\" to uppercase."
      ],
      "metadata": {
        "id": "Y0YXNrwtsA38"
      }
    },
    {
      "cell_type": "code",
      "source": [
        "new_string =\"hello\"\n",
        "print(new_string.upper())"
      ],
      "metadata": {
        "colab": {
          "base_uri": "https://localhost:8080/"
        },
        "id": "3InDH7fHsCDz",
        "outputId": "83cccad0-7611-4a44-80f0-5c9006d01471"
      },
      "execution_count": null,
      "outputs": [
        {
          "output_type": "stream",
          "name": "stdout",
          "text": [
            "HELLO\n"
          ]
        }
      ]
    },
    {
      "cell_type": "markdown",
      "source": [
        "Write a code to replace the word \"apple\" with \"orange\" in the string \"I like apple\"."
      ],
      "metadata": {
        "id": "zeDKssS_sNPM"
      }
    },
    {
      "cell_type": "code",
      "source": [
        "new_string = \"I like apple\"\n",
        "print(new_string.replace(\"apple\",\"orange\"))"
      ],
      "metadata": {
        "colab": {
          "base_uri": "https://localhost:8080/"
        },
        "id": "Uae2dNQ2sQBP",
        "outputId": "7b89ae7a-c28e-4ec0-bfd6-d861488df309"
      },
      "execution_count": null,
      "outputs": [
        {
          "output_type": "stream",
          "name": "stdout",
          "text": [
            "I like orange\n"
          ]
        }
      ]
    },
    {
      "cell_type": "code",
      "source": [
        "new_list = [1,2,3,4,5]\n",
        "print(new_list)"
      ],
      "metadata": {
        "colab": {
          "base_uri": "https://localhost:8080/"
        },
        "id": "YOkXu5-0sedE",
        "outputId": "1246d26e-3b1a-4442-81a4-f1db1327548b"
      },
      "execution_count": null,
      "outputs": [
        {
          "output_type": "stream",
          "name": "stdout",
          "text": [
            "[1, 2, 3, 4, 5]\n"
          ]
        }
      ]
    },
    {
      "cell_type": "markdown",
      "source": [
        "Write a code to append the number 10 to the list."
      ],
      "metadata": {
        "id": "L9vcbmtgsoUs"
      }
    },
    {
      "cell_type": "code",
      "source": [
        "new_list = [1,2,3,4,5]\n",
        "new_list.append(10)\n",
        "print(new_list)"
      ],
      "metadata": {
        "colab": {
          "base_uri": "https://localhost:8080/"
        },
        "id": "uAIcYvizssCM",
        "outputId": "2d30f40f-1188-4502-ec2c-465257710e15"
      },
      "execution_count": null,
      "outputs": [
        {
          "output_type": "stream",
          "name": "stdout",
          "text": [
            "[1, 2, 3, 4, 5, 10]\n"
          ]
        }
      ]
    },
    {
      "cell_type": "markdown",
      "source": [
        "Write a code to remove the number 3 from the list [1, 2, 3, 4, 5]."
      ],
      "metadata": {
        "id": "k61iiheQtMdL"
      }
    },
    {
      "cell_type": "code",
      "source": [
        "new_list = [1,2,3,4,5]\n",
        "new_list.remove(3)\n",
        "print(new_list)"
      ],
      "metadata": {
        "colab": {
          "base_uri": "https://localhost:8080/"
        },
        "id": "1If6cudHtS9l",
        "outputId": "6da90205-8b3f-4338-95af-8cc0961737ca"
      },
      "execution_count": null,
      "outputs": [
        {
          "output_type": "stream",
          "name": "stdout",
          "text": [
            "[1, 2, 4, 5]\n"
          ]
        }
      ]
    },
    {
      "cell_type": "markdown",
      "source": [
        "Write a code to access the second element in the list ['a', 'b', 'c', 'd']."
      ],
      "metadata": {
        "id": "RV0q2Khitca0"
      }
    },
    {
      "cell_type": "code",
      "source": [
        "new_list =['a','b','c','d']\n",
        "print(new_list[1])"
      ],
      "metadata": {
        "colab": {
          "base_uri": "https://localhost:8080/"
        },
        "id": "R896cIxBteQs",
        "outputId": "b9ef7aa4-f6f7-4226-c092-b1c96489e4c8"
      },
      "execution_count": null,
      "outputs": [
        {
          "output_type": "stream",
          "name": "stdout",
          "text": [
            "b\n"
          ]
        }
      ]
    },
    {
      "cell_type": "markdown",
      "source": [
        "Write a code to reverse the list [10, 20, 30, 40, 50]."
      ],
      "metadata": {
        "id": "tLS-238Xt2bM"
      }
    },
    {
      "cell_type": "code",
      "source": [
        "new_list = [10,20,30,40,50]\n",
        "new_list.reverse()\n",
        "print(new_list)"
      ],
      "metadata": {
        "colab": {
          "base_uri": "https://localhost:8080/"
        },
        "id": "Lh-dcrvdt3WD",
        "outputId": "c247543a-4300-4db8-bfe0-dd6f9bbf0dc5"
      },
      "execution_count": null,
      "outputs": [
        {
          "output_type": "stream",
          "name": "stdout",
          "text": [
            "[50, 40, 30, 20, 10]\n"
          ]
        }
      ]
    },
    {
      "cell_type": "markdown",
      "source": [
        "Write a code to create a tuple with the elements 10, 20, 30 and print it."
      ],
      "metadata": {
        "id": "JzXfUt5juMT0"
      }
    },
    {
      "cell_type": "code",
      "source": [
        "new_tuple = (10,20,30)\n",
        "print(new_tuple)"
      ],
      "metadata": {
        "colab": {
          "base_uri": "https://localhost:8080/"
        },
        "id": "j7b16_houQNc",
        "outputId": "831581bd-15e2-414d-d72d-28e748120752"
      },
      "execution_count": null,
      "outputs": [
        {
          "output_type": "stream",
          "name": "stdout",
          "text": [
            "(10, 20, 30)\n"
          ]
        }
      ]
    },
    {
      "cell_type": "markdown",
      "source": [
        "Write a code to access the first element of the tuple ('apple', 'banana', 'cherry')."
      ],
      "metadata": {
        "id": "Rx99u-OuuVvD"
      }
    },
    {
      "cell_type": "code",
      "source": [
        "new_tuple = ('apple', 'banana', 'cherry')\n",
        "print(new_tuple[0])"
      ],
      "metadata": {
        "colab": {
          "base_uri": "https://localhost:8080/"
        },
        "id": "agB3XCszubxc",
        "outputId": "dfcaa6a5-008c-4160-f8b6-3b0f22da67e3"
      },
      "execution_count": null,
      "outputs": [
        {
          "output_type": "stream",
          "name": "stdout",
          "text": [
            "apple\n"
          ]
        }
      ]
    },
    {
      "cell_type": "markdown",
      "source": [
        "Write a code to count how many times the number 2 appears in the tuple (1, 2, 3, 2, 4, 2)."
      ],
      "metadata": {
        "id": "ZlMsGrAsugBc"
      }
    },
    {
      "cell_type": "code",
      "source": [
        "new_tuple = (1,2,3,2,4,2)\n",
        "print(new_tuple.count(2))"
      ],
      "metadata": {
        "colab": {
          "base_uri": "https://localhost:8080/"
        },
        "id": "q7HOxdbGulJV",
        "outputId": "fe487fec-bb20-4733-d4e2-4deb386d1f55"
      },
      "execution_count": null,
      "outputs": [
        {
          "output_type": "stream",
          "name": "stdout",
          "text": [
            "3\n"
          ]
        }
      ]
    },
    {
      "cell_type": "markdown",
      "source": [
        "Write a code to find the index of the element \"cat\" in the tuple ('dog', 'cat', 'rabbit')."
      ],
      "metadata": {
        "id": "wj56VPXSu0zT"
      }
    },
    {
      "cell_type": "code",
      "source": [
        "new_tuple = ('dog', 'cat', 'rabbit')\n",
        "print(new_tuple.index('cat'))"
      ],
      "metadata": {
        "colab": {
          "base_uri": "https://localhost:8080/"
        },
        "id": "X-a0wCR7u4pD",
        "outputId": "3332932b-38d7-4f36-e682-854ebafd3728"
      },
      "execution_count": null,
      "outputs": [
        {
          "output_type": "stream",
          "name": "stdout",
          "text": [
            "1\n"
          ]
        }
      ]
    },
    {
      "cell_type": "markdown",
      "source": [
        "Write a code to check if the element \"banana\" is in the tuple ('apple', 'orange', 'banana')."
      ],
      "metadata": {
        "id": "sI6HHYfxvDDj"
      }
    },
    {
      "cell_type": "code",
      "source": [
        "new_tuple = ('apple', 'orange', 'banana')\n",
        "print('banana' in new_tuple)"
      ],
      "metadata": {
        "colab": {
          "base_uri": "https://localhost:8080/"
        },
        "id": "KboLMNGPvDwc",
        "outputId": "4229f342-f392-4342-c795-b8a006166f62"
      },
      "execution_count": null,
      "outputs": [
        {
          "output_type": "stream",
          "name": "stdout",
          "text": [
            "True\n"
          ]
        }
      ]
    },
    {
      "cell_type": "markdown",
      "source": [
        "Write a code to create a set with the elements 1, 2, 3, 4, 5 and print it."
      ],
      "metadata": {
        "id": "6TI8KHlvvbqb"
      }
    },
    {
      "cell_type": "code",
      "source": [
        "new_set = {1,2,3,4,5}\n",
        "print(new_set)"
      ],
      "metadata": {
        "colab": {
          "base_uri": "https://localhost:8080/"
        },
        "id": "okFwN-UevcxE",
        "outputId": "d25106e9-71b0-4a7e-9514-46e60890c1b3"
      },
      "execution_count": null,
      "outputs": [
        {
          "output_type": "stream",
          "name": "stdout",
          "text": [
            "{1, 2, 3, 4, 5}\n"
          ]
        }
      ]
    },
    {
      "cell_type": "markdown",
      "source": [
        "Write a code to add the element 6 to the set {1, 2, 3, 4}."
      ],
      "metadata": {
        "id": "foqt57UBvkXk"
      }
    },
    {
      "cell_type": "code",
      "source": [
        "new_set = {1,2,3,4}\n",
        "new_set.add(6)\n",
        "print(new_set)"
      ],
      "metadata": {
        "colab": {
          "base_uri": "https://localhost:8080/"
        },
        "id": "4vOl9vBOvvWb",
        "outputId": "d972dd4c-9703-4f9e-85bf-e41b40c6aece"
      },
      "execution_count": null,
      "outputs": [
        {
          "output_type": "stream",
          "name": "stdout",
          "text": [
            "{1, 2, 3, 4, 6}\n"
          ]
        }
      ]
    },
    {
      "cell_type": "markdown",
      "source": [
        "Write a code to create a tuple with the elements 10, 20, 30 and print it."
      ],
      "metadata": {
        "id": "SB_csQY-v8zj"
      }
    },
    {
      "cell_type": "code",
      "source": [
        "new_tuple = (10,20,30)\n",
        "print(new_tuple)"
      ],
      "metadata": {
        "colab": {
          "base_uri": "https://localhost:8080/"
        },
        "id": "XdvE1csTv9fn",
        "outputId": "4c8b699c-c79a-479c-887a-122bfe303551"
      },
      "execution_count": null,
      "outputs": [
        {
          "output_type": "stream",
          "name": "stdout",
          "text": [
            "(10, 20, 30)\n"
          ]
        }
      ]
    },
    {
      "cell_type": "markdown",
      "source": [
        "Write a code to access the first element of the tuple ('apple', 'banana', 'cherry')."
      ],
      "metadata": {
        "id": "oHtq-bcSwEx0"
      }
    },
    {
      "cell_type": "code",
      "source": [
        "new_tuple = ('apple', 'banana', 'cherry')\n",
        "print(new_tuple[0])"
      ],
      "metadata": {
        "colab": {
          "base_uri": "https://localhost:8080/"
        },
        "id": "c6GsVbAywJmJ",
        "outputId": "f5e96801-a8a0-4a2e-b152-fe8ef1404160"
      },
      "execution_count": null,
      "outputs": [
        {
          "output_type": "stream",
          "name": "stdout",
          "text": [
            "apple\n"
          ]
        }
      ]
    },
    {
      "cell_type": "markdown",
      "source": [
        "Write a code to count how many times the number 2 appears in the tuple (1, 2, 3, 2, 4, 2)."
      ],
      "metadata": {
        "id": "sZcCgLPFwM_1"
      }
    },
    {
      "cell_type": "code",
      "source": [
        "new_tuple = (1,2,3,2,4,2)\n",
        "print(new_tuple.count(2))"
      ],
      "metadata": {
        "colab": {
          "base_uri": "https://localhost:8080/"
        },
        "id": "xug9XvSlwPxB",
        "outputId": "1eb78c67-18b3-4e3e-d647-52dc5a9b9030"
      },
      "execution_count": null,
      "outputs": [
        {
          "output_type": "stream",
          "name": "stdout",
          "text": [
            "3\n"
          ]
        }
      ]
    },
    {
      "cell_type": "markdown",
      "source": [
        "Write a code to find the index of the element \"cat\" in the tuple ('dog', 'cat', 'rabbit')."
      ],
      "metadata": {
        "id": "bFSvbeJywaid"
      }
    },
    {
      "cell_type": "code",
      "source": [
        "new_tuple = ('dog', 'cat', 'rabbit')\n",
        "print(new_tuple.index('cat'))"
      ],
      "metadata": {
        "colab": {
          "base_uri": "https://localhost:8080/"
        },
        "id": "aHxfPYYlwbSE",
        "outputId": "d0867dc8-9b32-4c3f-8361-e862838d4c91"
      },
      "execution_count": null,
      "outputs": [
        {
          "output_type": "stream",
          "name": "stdout",
          "text": [
            "1\n"
          ]
        }
      ]
    },
    {
      "cell_type": "markdown",
      "source": [
        "Write a code to check if the element \"banana\" is in the tuple ('apple', 'orange', 'banana')."
      ],
      "metadata": {
        "id": "zHJw1KRpwhkj"
      }
    },
    {
      "cell_type": "code",
      "source": [
        "new_tuple = ('apple', 'orange', 'banana')\n",
        "print('banana' in new_tuple)"
      ],
      "metadata": {
        "colab": {
          "base_uri": "https://localhost:8080/"
        },
        "id": "6gVr_g0swlH8",
        "outputId": "5066db57-2823-48ea-8120-bb1c3a1dd447"
      },
      "execution_count": null,
      "outputs": [
        {
          "output_type": "stream",
          "name": "stdout",
          "text": [
            "True\n"
          ]
        }
      ]
    },
    {
      "cell_type": "markdown",
      "source": [
        "Write a code to create a set with the elements 1, 2, 3, 4, 5 and print it."
      ],
      "metadata": {
        "id": "ukDVSG7cwtP2"
      }
    },
    {
      "cell_type": "code",
      "source": [
        "new_set ={1,2,3,4,5}\n",
        "print(new_set)"
      ],
      "metadata": {
        "colab": {
          "base_uri": "https://localhost:8080/"
        },
        "id": "VvDqV6kowt9c",
        "outputId": "a20a1527-cbaf-4e96-9c65-5e2a0811879d"
      },
      "execution_count": null,
      "outputs": [
        {
          "output_type": "stream",
          "name": "stdout",
          "text": [
            "{1, 2, 3, 4, 5}\n"
          ]
        }
      ]
    },
    {
      "cell_type": "markdown",
      "source": [
        "Write a code to add the element 6 to the set {1, 2, 3, 4}."
      ],
      "metadata": {
        "id": "x2uHs_lSw9dk"
      }
    },
    {
      "cell_type": "code",
      "source": [
        "new_set ={1, 2, 3, 4}\n",
        "new_set.add(6)\n",
        "print(new_set)"
      ],
      "metadata": {
        "colab": {
          "base_uri": "https://localhost:8080/"
        },
        "id": "hb1Pul5Jw-sT",
        "outputId": "de4c15c7-dbda-4b9e-fad7-d65a2bce86c1"
      },
      "execution_count": null,
      "outputs": [
        {
          "output_type": "stream",
          "name": "stdout",
          "text": [
            "{1, 2, 3, 4, 6}\n"
          ]
        }
      ]
    }
  ]
}